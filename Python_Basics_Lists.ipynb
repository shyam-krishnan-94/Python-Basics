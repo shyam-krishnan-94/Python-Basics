{
  "nbformat": 4,
  "nbformat_minor": 0,
  "metadata": {
    "colab": {
      "provenance": []
    },
    "kernelspec": {
      "name": "python3",
      "display_name": "Python 3"
    },
    "language_info": {
      "name": "python"
    }
  },
  "cells": [
    {
      "cell_type": "code",
      "execution_count": 1,
      "metadata": {
        "colab": {
          "base_uri": "https://localhost:8080/"
        },
        "id": "IxjHsl--Y9wA",
        "outputId": "2a615c63-0537-47a7-ceca-3ec57853b496"
      },
      "outputs": [
        {
          "output_type": "stream",
          "name": "stdout",
          "text": [
            "<class 'list'>\n"
          ]
        }
      ],
      "source": [
        "#Lists and list comprehension\n",
        "\n",
        "#Lists are mutable collection of items\n",
        "\n",
        "lst=[]\n",
        "print(type(lst))"
      ]
    },
    {
      "cell_type": "code",
      "source": [
        "#Declaration and assignment of lists\n",
        "\n",
        "\n",
        "lst=[\"ganguly\",\"tendulkar\",\"dravid\",1,2,3,True,3.5]\n",
        "print(lst)"
      ],
      "metadata": {
        "colab": {
          "base_uri": "https://localhost:8080/"
        },
        "id": "Okxs71uWZTTe",
        "outputId": "bfcd72ad-1643-45f3-a7d4-83a44621465f"
      },
      "execution_count": 3,
      "outputs": [
        {
          "output_type": "stream",
          "name": "stdout",
          "text": [
            "['ganguly', 'tendulkar', 'dravid', 1, 2, 3, True, 3.5]\n"
          ]
        }
      ]
    },
    {
      "cell_type": "code",
      "source": [
        "#Qn - How to iteratively add items to a list until the user says enough\n",
        "shopping_list = []\n",
        "print(\"Enter an item to add to your list. Type 'done' when you're finished.\")\n",
        "while True:\n",
        "\n",
        "    item = input(\"Add an item: \")\n",
        "    if item.lower() == 'done':\n",
        "        break\n",
        "    shopping_list.append(item)\n",
        "\n",
        "print(\"\\nYour final shopping list is:\")\n",
        "for item in shopping_list:\n",
        "    print(\"- \" + item)"
      ],
      "metadata": {
        "colab": {
          "base_uri": "https://localhost:8080/"
        },
        "id": "UBTpSlQeZ-4A",
        "outputId": "8a237b89-2b6f-4c06-e03a-81d660e9240d"
      },
      "execution_count": 15,
      "outputs": [
        {
          "output_type": "stream",
          "name": "stdout",
          "text": [
            "Enter an item to add to your list. Type 'done' when you're finished.\n",
            "Add an item: idly\n",
            "Add an item: dosa\n",
            "Add an item: poori\n",
            "Add an item: banana\n",
            "Add an item: apple\n",
            "Add an item: watermelon\n",
            "Add an item: done\n",
            "\n",
            "Your final shopping list is:\n",
            "- idly\n",
            "- dosa\n",
            "- poori\n",
            "- banana\n",
            "- apple\n",
            "- watermelon\n"
          ]
        }
      ]
    },
    {
      "cell_type": "code",
      "source": [
        "#Accessing list elements\n",
        "print(shopping_list)\n",
        "print(shopping_list[0])\n",
        "print(shopping_list[-1])\n",
        "print(shopping_list[0:2])"
      ],
      "metadata": {
        "colab": {
          "base_uri": "https://localhost:8080/"
        },
        "id": "63XixK5Vaqhn",
        "outputId": "c8008167-ebe5-4348-d2c2-d8e780009efc"
      },
      "execution_count": 8,
      "outputs": [
        {
          "output_type": "stream",
          "name": "stdout",
          "text": [
            "['idly', 'dosa', 'poori']\n",
            "idly\n",
            "poori\n",
            "['idly', 'dosa']\n"
          ]
        }
      ]
    },
    {
      "cell_type": "code",
      "source": [
        "shopping_list[1] = 'watermelon'\n",
        "print(shopping_list)"
      ],
      "metadata": {
        "colab": {
          "base_uri": "https://localhost:8080/"
        },
        "id": "pZSZeTycapl1",
        "outputId": "b0c2a569-0bc3-48b8-c22c-3068beff3e8a"
      },
      "execution_count": 10,
      "outputs": [
        {
          "output_type": "stream",
          "name": "stdout",
          "text": [
            "['idly', 'watermelon', 'poori']\n"
          ]
        }
      ]
    },
    {
      "cell_type": "code",
      "source": [
        "#List Methods\n",
        "\n",
        "shopping_list.append(\"rava\") #Add item to the end\n",
        "print(shopping_list)\n",
        "\n",
        "shopping_list.insert(2,\"dhokla\") #Add an item to the specific index\n",
        "print(shopping_list)\n",
        "\n",
        "shopping_list.remove(\"idly\") #To remove the first instance of the item specified\n",
        "print(shopping_list)\n",
        "\n",
        "last_element=shopping_list.pop()\n",
        "print(last_element)"
      ],
      "metadata": {
        "colab": {
          "base_uri": "https://localhost:8080/"
        },
        "id": "NTUB4vkDcggO",
        "outputId": "33a9f58b-7a35-486f-87e8-f9b4dc8d782f"
      },
      "execution_count": 16,
      "outputs": [
        {
          "output_type": "stream",
          "name": "stdout",
          "text": [
            "['idly', 'dosa', 'poori', 'banana', 'apple', 'watermelon', 'rava']\n",
            "['idly', 'dosa', 'dhokla', 'poori', 'banana', 'apple', 'watermelon', 'rava']\n",
            "['dosa', 'dhokla', 'poori', 'banana', 'apple', 'watermelon', 'rava']\n",
            "rava\n"
          ]
        }
      ]
    },
    {
      "cell_type": "code",
      "source": [
        "print(shopping_list)\n",
        "index = shopping_list.index(\"poori\")\n",
        "print(index)\n",
        "shopping_list.insert(3,\"vada\")\n",
        "print(shopping_list)"
      ],
      "metadata": {
        "colab": {
          "base_uri": "https://localhost:8080/"
        },
        "id": "nTsiwJ0pe9mB",
        "outputId": "4d7fd7b8-8a95-4a60-dfe0-3e94d99ca958"
      },
      "execution_count": 19,
      "outputs": [
        {
          "output_type": "stream",
          "name": "stdout",
          "text": [
            "['dosa', 'dhokla', 'poori', 'banana', 'apple', 'watermelon']\n",
            "2\n",
            "['dosa', 'dhokla', 'poori', 'vada', 'banana', 'apple', 'watermelon']\n"
          ]
        }
      ]
    },
    {
      "cell_type": "code",
      "source": [
        "shopping_list.sort()#Sorting in ascending order\n",
        "print(shopping_list)\n",
        "shopping_list.reverse()\n",
        "print(shopping_list)"
      ],
      "metadata": {
        "colab": {
          "base_uri": "https://localhost:8080/"
        },
        "id": "vaM3OZfvwH27",
        "outputId": "5c9b50e4-7632-4523-efda-3af22d380ede"
      },
      "execution_count": 23,
      "outputs": [
        {
          "output_type": "stream",
          "name": "stdout",
          "text": [
            "['apple', 'banana', 'dhokla', 'dosa', 'poori', 'vada', 'watermelon']\n",
            "['watermelon', 'vada', 'poori', 'dosa', 'dhokla', 'banana', 'apple']\n"
          ]
        }
      ]
    },
    {
      "cell_type": "code",
      "source": [
        "numbers = [1,2,3,4,5,6,7,8,9,10]\n",
        "print(numbers[::2]) #-- The last number is the stepper. If stepper is negative, the list prints in reverse order\n",
        "print(numbers[-4:10]) # Rightway, the list starts with index 0,1,2 etc, and from left starts from -1,-2,-3 etc"
      ],
      "metadata": {
        "colab": {
          "base_uri": "https://localhost:8080/"
        },
        "id": "0L3JcFLTwyal",
        "outputId": "9055df38-7631-4e5d-be75-32af5ca3cac4"
      },
      "execution_count": 37,
      "outputs": [
        {
          "output_type": "stream",
          "name": "stdout",
          "text": [
            "[1, 3, 5, 7, 9]\n",
            "[7, 8, 9, 10]\n"
          ]
        }
      ]
    },
    {
      "cell_type": "code",
      "source": [
        "#Iterating over list\n",
        "for num in numbers:\n",
        "  print(num)\n",
        "#Iterating with index over list\n",
        "for index, num in enumerate(numbers):\n",
        "  print(index, num)"
      ],
      "metadata": {
        "colab": {
          "base_uri": "https://localhost:8080/"
        },
        "id": "nj_wVrobwuKN",
        "outputId": "4dce4dbd-3739-492a-9c4c-62e872ff6a59"
      },
      "execution_count": 39,
      "outputs": [
        {
          "output_type": "stream",
          "name": "stdout",
          "text": [
            "1\n",
            "2\n",
            "3\n",
            "4\n",
            "5\n",
            "6\n",
            "7\n",
            "8\n",
            "9\n",
            "10\n",
            "0 1\n",
            "1 2\n",
            "2 3\n",
            "3 4\n",
            "4 5\n",
            "5 6\n",
            "6 7\n",
            "7 8\n",
            "8 9\n",
            "9 10\n"
          ]
        }
      ]
    },
    {
      "cell_type": "code",
      "source": [
        "practice_list=[]\n",
        "while True:\n",
        "  num=input(\"Enter number:\")\n",
        "  if num!=\"over\":\n",
        "    practice_list.append(int(num))\n",
        "  else:\n",
        "    break\n",
        "\n",
        "print(practice_list)\n",
        "\n",
        "#Qn: How to counter blank inputs"
      ],
      "metadata": {
        "colab": {
          "base_uri": "https://localhost:8080/"
        },
        "id": "VgHeLgUp07ee",
        "outputId": "e42132c8-2eff-48e3-a9b8-e1aa5c246b99"
      },
      "execution_count": 42,
      "outputs": [
        {
          "output_type": "stream",
          "name": "stdout",
          "text": [
            "Enter number:1\n",
            "Enter number:2\n",
            "Enter number:3\n",
            "Enter number:4\n",
            "Enter number:over\n",
            "[1, 2, 3, 4]\n"
          ]
        }
      ]
    },
    {
      "cell_type": "code",
      "source": [
        "#List comprehension\n",
        "#[EXPRESSION FOR ITEM IN ITERABLE IF CONDITION]\n",
        "\n",
        "#[x**2 for x in range(10)]\n",
        "\n",
        "A=[1,2,3,4,5,6,7,8,9,10]\n",
        "B=[x if x%2==0 else x*2 for x in A]\n",
        "print(B)"
      ],
      "metadata": {
        "colab": {
          "base_uri": "https://localhost:8080/"
        },
        "id": "cBok1V5w2RTl",
        "outputId": "482ded4d-0af7-4cdd-c7f6-13dcb8c74a5f"
      },
      "execution_count": 46,
      "outputs": [
        {
          "output_type": "stream",
          "name": "stdout",
          "text": [
            "[2, 2, 6, 4, 10, 6, 14, 8, 18, 10]\n"
          ]
        }
      ]
    },
    {
      "cell_type": "code",
      "source": [
        "#Nested list comprehension\n",
        "\n",
        "[x*y for x in range(1,10) for y in range(11,20)]\n",
        "#This is like one for loop and then the nested loop"
      ],
      "metadata": {
        "colab": {
          "base_uri": "https://localhost:8080/"
        },
        "id": "WHPvhNvN733o",
        "outputId": "d4b58657-a83e-4101-d94f-aafb74781cd7"
      },
      "execution_count": 47,
      "outputs": [
        {
          "output_type": "execute_result",
          "data": {
            "text/plain": [
              "[11,\n",
              " 12,\n",
              " 13,\n",
              " 14,\n",
              " 15,\n",
              " 16,\n",
              " 17,\n",
              " 18,\n",
              " 19,\n",
              " 22,\n",
              " 24,\n",
              " 26,\n",
              " 28,\n",
              " 30,\n",
              " 32,\n",
              " 34,\n",
              " 36,\n",
              " 38,\n",
              " 33,\n",
              " 36,\n",
              " 39,\n",
              " 42,\n",
              " 45,\n",
              " 48,\n",
              " 51,\n",
              " 54,\n",
              " 57,\n",
              " 44,\n",
              " 48,\n",
              " 52,\n",
              " 56,\n",
              " 60,\n",
              " 64,\n",
              " 68,\n",
              " 72,\n",
              " 76,\n",
              " 55,\n",
              " 60,\n",
              " 65,\n",
              " 70,\n",
              " 75,\n",
              " 80,\n",
              " 85,\n",
              " 90,\n",
              " 95,\n",
              " 66,\n",
              " 72,\n",
              " 78,\n",
              " 84,\n",
              " 90,\n",
              " 96,\n",
              " 102,\n",
              " 108,\n",
              " 114,\n",
              " 77,\n",
              " 84,\n",
              " 91,\n",
              " 98,\n",
              " 105,\n",
              " 112,\n",
              " 119,\n",
              " 126,\n",
              " 133,\n",
              " 88,\n",
              " 96,\n",
              " 104,\n",
              " 112,\n",
              " 120,\n",
              " 128,\n",
              " 136,\n",
              " 144,\n",
              " 152,\n",
              " 99,\n",
              " 108,\n",
              " 117,\n",
              " 126,\n",
              " 135,\n",
              " 144,\n",
              " 153,\n",
              " 162,\n",
              " 171]"
            ]
          },
          "metadata": {},
          "execution_count": 47
        }
      ]
    }
  ]
}