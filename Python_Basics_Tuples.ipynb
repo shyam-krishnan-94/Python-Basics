{
  "nbformat": 4,
  "nbformat_minor": 0,
  "metadata": {
    "colab": {
      "provenance": []
    },
    "kernelspec": {
      "name": "python3",
      "display_name": "Python 3"
    },
    "language_info": {
      "name": "python"
    }
  },
  "cells": [
    {
      "cell_type": "code",
      "execution_count": 1,
      "metadata": {
        "colab": {
          "base_uri": "https://localhost:8080/"
        },
        "id": "s--RmQGxu9sS",
        "outputId": "ce1c8662-f1d8-497f-939f-0fc90bc738a9"
      },
      "outputs": [
        {
          "output_type": "stream",
          "name": "stdout",
          "text": [
            "()\n",
            "<class 'tuple'>\n"
          ]
        }
      ],
      "source": [
        "#Ordered collection of items and immutable\n",
        "\n",
        "empty_tuple=()\n",
        "print(empty_tuple)\n",
        "print(type(empty_tuple))"
      ]
    },
    {
      "cell_type": "code",
      "source": [
        "#Assigning and accessing tuple elements\n",
        "\n",
        "A=(1,2,2,3)\n",
        "print(A[0])\n",
        "print(A)\n",
        "print(type(A))\n",
        "print(A.count(2))\n",
        "\n",
        "#Concatenation\n",
        "B=(100,101,102)\n",
        "print(A+B)\n",
        "\n",
        "#Repetition for 3 times\n",
        "print(B*3)\n",
        "\n"
      ],
      "metadata": {
        "colab": {
          "base_uri": "https://localhost:8080/"
        },
        "id": "ySwyipU4v6-L",
        "outputId": "d202bf6a-92d1-44a4-d9a8-2e5404517897"
      },
      "execution_count": 9,
      "outputs": [
        {
          "output_type": "stream",
          "name": "stdout",
          "text": [
            "1\n",
            "(1, 2, 2, 3)\n",
            "<class 'tuple'>\n",
            "2\n",
            "(1, 2, 2, 3, 100, 101, 102)\n",
            "(100, 101, 102, 100, 101, 102, 100, 101, 102)\n"
          ]
        }
      ]
    },
    {
      "cell_type": "code",
      "source": [
        "#Packing and unpacking tuples\n",
        "\n",
        "#Packing\n",
        "D=1,3.14,\"Hello\"\n",
        "print(D)\n",
        "\n",
        "#Unpacking\n",
        "a,b,c=D\n",
        "print(a)\n",
        "\n",
        "#Unpacking with *\n",
        "E=1,2,3,4,5,6,7\n",
        "\n",
        "first, *middle, last = E\n",
        "print(first,middle,last)"
      ],
      "metadata": {
        "colab": {
          "base_uri": "https://localhost:8080/"
        },
        "id": "8Rk5-amMxxwO",
        "outputId": "5a5cb3de-7f8a-4e60-aa23-3a8264e5a5ca"
      },
      "execution_count": 13,
      "outputs": [
        {
          "output_type": "stream",
          "name": "stdout",
          "text": [
            "(1, 3.14, 'Hello')\n",
            "1\n",
            "1 [2, 3, 4, 5, 6] 7\n"
          ]
        }
      ]
    },
    {
      "cell_type": "code",
      "source": [
        "#Nested tuples\n",
        "\n",
        "F=(1,(1,2,3),4,5)\n",
        "print(F[1][1])"
      ],
      "metadata": {
        "colab": {
          "base_uri": "https://localhost:8080/"
        },
        "id": "YNbMlUclyjkx",
        "outputId": "1b978d69-46be-4a5a-8dcf-8f39261d0477"
      },
      "execution_count": 15,
      "outputs": [
        {
          "output_type": "stream",
          "name": "stdout",
          "text": [
            "2\n"
          ]
        }
      ]
    },
    {
      "cell_type": "code",
      "source": [
        "L=[1,2,[3,4,5],[6,7]]\n",
        "for i in L:\n",
        "  if isinstance(i, list): # Check if the element is a list\n",
        "    for j in i:\n",
        "      print(j,end = \" \")\n",
        "  else: # Handle the case where the element is not a list (e.g., an integer)\n",
        "    print(i,end =\" \")\n",
        "  print()"
      ],
      "metadata": {
        "colab": {
          "base_uri": "https://localhost:8080/"
        },
        "id": "qROhGWAUzmvu",
        "outputId": "17538d44-26d2-4ce7-9d15-7de024c2631c"
      },
      "execution_count": 26,
      "outputs": [
        {
          "output_type": "stream",
          "name": "stdout",
          "text": [
            "1 \n",
            "2 \n",
            "3 4 5 \n",
            "6 7 \n"
          ]
        }
      ]
    },
    {
      "cell_type": "code",
      "source": [
        "?is_type"
      ],
      "metadata": {
        "colab": {
          "base_uri": "https://localhost:8080/"
        },
        "id": "zDhsfEtm1PQx",
        "outputId": "08a76c52-bc84-42b0-a804-e1371fe0a402"
      },
      "execution_count": 22,
      "outputs": [
        {
          "output_type": "stream",
          "name": "stdout",
          "text": [
            "Object `is_type` not found.\n"
          ]
        }
      ]
    }
  ]
}