{
  "nbformat": 4,
  "nbformat_minor": 0,
  "metadata": {
    "colab": {
      "provenance": []
    },
    "kernelspec": {
      "name": "python3",
      "display_name": "Python 3"
    },
    "language_info": {
      "name": "python"
    }
  },
  "cells": [
    {
      "cell_type": "markdown",
      "source": [
        "Syntax\n",
        "Syntax is like the grammar rules of a human language. It's about how words and symbols are arranged to form a valid statement or expression. If you break a syntax rule, your code will cause a syntax error and won't run. For example, missing a colon after an if statement or a parenthesis in a function call is a syntax error. It's a matter of form, not meaning.\n",
        "\n",
        "Semantics\n",
        "Semantics is the meaning behind the code. It determines what a valid statement actually does when executed. A syntactically correct program can still have semantic errors, which are logical mistakes that cause the program to behave unexpectedly. These are much harder to debug than syntax errors because the code runs, but the output is wrong. For example, using the wrong variable in a calculation or trying to divide by zero are semantic errors."
      ],
      "metadata": {
        "id": "ouxhuyU9w8Hs"
      }
    },
    {
      "cell_type": "markdown",
      "source": [
        "Syntax\n",
        "The code result = x / y is syntactically correct. All the elements—variables, the assignment operator (=), and the division operator (/)—are in the correct order. Python understands this as a valid statement.\n",
        "\n",
        "Semantics\n",
        "While the code is syntactically correct, it contains a semantic error: division by zero. When the program runs, it will attempt to execute this line. Since division by zero is a meaningless operation in mathematics, Python will raise a ZeroDivisionError at runtime. The error isn't in the structure of the code, but in the meaning of the operation. The program's logic is flawed, even though its grammar is perfect."
      ],
      "metadata": {
        "id": "qrzHD60-xPGx"
      }
    },
    {
      "cell_type": "code",
      "source": [
        "## For single line comments\n",
        "\n",
        "'''\n",
        "For multiline comments\n",
        "for your reference\n",
        "works well in .py file\n",
        "'''"
      ],
      "metadata": {
        "id": "1la8xEkaxy9s"
      },
      "execution_count": null,
      "outputs": []
    },
    {
      "cell_type": "code",
      "source": [
        "##Case sensitivity - Python is case-sensitive\n",
        "## No need to declare variable type in python, do the direct assignment. Python does type inferencing\n",
        "name = 'ron'\n",
        "Name = 'Weasley'\n",
        "print(type(name))\n",
        "\n",
        "print(name)\n",
        "print(Name)"
      ],
      "metadata": {
        "colab": {
          "base_uri": "https://localhost:8080/"
        },
        "id": "M1dB4JVhx_RM",
        "outputId": "6d8e98a6-b5b8-4b6b-97af-6cf25a1fc4c9"
      },
      "execution_count": 12,
      "outputs": [
        {
          "output_type": "stream",
          "name": "stdout",
          "text": [
            "<class 'str'>\n",
            "ron\n",
            "Weasley\n"
          ]
        }
      ]
    },
    {
      "cell_type": "markdown",
      "source": [
        "Python uses indentation (Blocks of code) - Other programming languages uses {} to define group of statements if/for etc., similarly pyton uses indentation"
      ],
      "metadata": {
        "id": "cjENCevTy_gF"
      }
    },
    {
      "cell_type": "code",
      "source": [
        "## Line continuation\n",
        "\n",
        "total = 1+2+3+4+5+6+\\\n",
        "7+8\n",
        "\n",
        "print(total)\n",
        "\n",
        "x=5;y=10;z=15;print(z)"
      ],
      "metadata": {
        "colab": {
          "base_uri": "https://localhost:8080/"
        },
        "id": "WOcNKwcOzC03",
        "outputId": "402a4c1c-62a3-48ca-a551-6bc26b81b115"
      },
      "execution_count": 13,
      "outputs": [
        {
          "output_type": "stream",
          "name": "stdout",
          "text": [
            "36\n",
            "15\n"
          ]
        }
      ]
    },
    {
      "cell_type": "markdown",
      "source": [
        "##Add \\ to continue line and add ; to execute multiple statements in the same line"
      ],
      "metadata": {
        "id": "MOLsbtSez88x"
      }
    },
    {
      "cell_type": "code",
      "source": [
        "##Example of name error\n",
        "m=n"
      ],
      "metadata": {
        "colab": {
          "base_uri": "https://localhost:8080/",
          "height": 180
        },
        "id": "fhOyNwGu0CVU",
        "outputId": "fe6499e4-aa49-47d8-ac75-c6e4ffe2f4e3"
      },
      "execution_count": 16,
      "outputs": [
        {
          "output_type": "error",
          "ename": "NameError",
          "evalue": "name 'n' is not defined",
          "traceback": [
            "\u001b[0;31m---------------------------------------------------------------------------\u001b[0m",
            "\u001b[0;31mNameError\u001b[0m                                 Traceback (most recent call last)",
            "\u001b[0;32m/tmp/ipython-input-2962019379.py\u001b[0m in \u001b[0;36m<cell line: 0>\u001b[0;34m()\u001b[0m\n\u001b[1;32m      1\u001b[0m \u001b[0;31m##Example of name error\u001b[0m\u001b[0;34m\u001b[0m\u001b[0;34m\u001b[0m\u001b[0m\n\u001b[1;32m      2\u001b[0m \u001b[0;34m\u001b[0m\u001b[0m\n\u001b[0;32m----> 3\u001b[0;31m \u001b[0mm\u001b[0m\u001b[0;34m=\u001b[0m\u001b[0mn\u001b[0m\u001b[0;34m\u001b[0m\u001b[0;34m\u001b[0m\u001b[0m\n\u001b[0m",
            "\u001b[0;31mNameError\u001b[0m: name 'n' is not defined"
          ]
        }
      ]
    },
    {
      "cell_type": "code",
      "source": [
        "#Code examples of indentation\n",
        "\n",
        "if True:\n",
        "  print(\"First\")\n",
        "  if False:\n",
        "    print(\"Second\")\n",
        "print(\"Third\")"
      ],
      "metadata": {
        "colab": {
          "base_uri": "https://localhost:8080/"
        },
        "id": "g-6D40pZ1qtB",
        "outputId": "051600bc-64d4-4f34-df4f-788e7330e6ae"
      },
      "execution_count": 17,
      "outputs": [
        {
          "output_type": "stream",
          "name": "stdout",
          "text": [
            "First\n",
            "Third\n"
          ]
        }
      ]
    }
  ]
}