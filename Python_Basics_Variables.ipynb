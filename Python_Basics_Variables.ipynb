{
  "nbformat": 4,
  "nbformat_minor": 0,
  "metadata": {
    "colab": {
      "provenance": []
    },
    "kernelspec": {
      "name": "python3",
      "display_name": "Python 3"
    },
    "language_info": {
      "name": "python"
    }
  },
  "cells": [
    {
      "cell_type": "code",
      "execution_count": 3,
      "metadata": {
        "colab": {
          "base_uri": "https://localhost:8080/"
        },
        "id": "LIIdW8LFLt9F",
        "outputId": "84875b3b-a0cf-46e0-ad7e-994b91c7a941"
      },
      "outputs": [
        {
          "output_type": "stream",
          "name": "stdout",
          "text": [
            "age: 30 height: 6\n"
          ]
        }
      ],
      "source": [
        "## Variables must start with a letter or underscore and can contain letters, numbers and underscores and its case-sensitive.\n",
        "## Avoid any keywords\n",
        "## Python dynamically typed - Type of variable determined at run-time\n",
        "age = 30\n",
        "height = 6\n",
        "print(\"age:\",age,\"height:\",height)"
      ]
    },
    {
      "cell_type": "code",
      "source": [
        "#Type conversion\n",
        "age_int=25\n",
        "age_str=str(age_int)\n",
        "print(type(age_str))\n",
        "age_float=float(age_str)\n",
        "print(age_float,type(age_float))\n",
        "\n",
        "#Dynamic type conversion - Python allows us to change the variable value and type as it executes, does not thrown an error\n",
        "var=10\n",
        "print(var)\n",
        "var=\"abc\"\n",
        "print(var)"
      ],
      "metadata": {
        "colab": {
          "base_uri": "https://localhost:8080/"
        },
        "id": "09BJ5DZbO-cW",
        "outputId": "0dcc74fb-5178-4938-d3a5-38d41e46ada7"
      },
      "execution_count": 7,
      "outputs": [
        {
          "output_type": "stream",
          "name": "stdout",
          "text": [
            "<class 'str'>\n",
            "25.0 <class 'float'>\n",
            "10\n",
            "abc\n"
          ]
        }
      ]
    },
    {
      "cell_type": "code",
      "source": [
        "#Accepting user input\n",
        "age=int(input(\"Enter an age:\"))\n",
        "print(type(age))"
      ],
      "metadata": {
        "colab": {
          "base_uri": "https://localhost:8080/"
        },
        "id": "Hr4JJ_ZuP3PN",
        "outputId": "dead2560-7882-493c-b7c7-ddc77bab1a25"
      },
      "execution_count": 9,
      "outputs": [
        {
          "output_type": "stream",
          "name": "stdout",
          "text": [
            "Enter an age:24\n",
            "<class 'int'>\n"
          ]
        }
      ]
    }
  ]
}