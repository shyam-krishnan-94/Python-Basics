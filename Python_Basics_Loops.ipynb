{
  "nbformat": 4,
  "nbformat_minor": 0,
  "metadata": {
    "colab": {
      "provenance": []
    },
    "kernelspec": {
      "name": "python3",
      "display_name": "Python 3"
    },
    "language_info": {
      "name": "python"
    }
  },
  "cells": [
    {
      "cell_type": "code",
      "execution_count": 3,
      "metadata": {
        "colab": {
          "base_uri": "https://localhost:8080/"
        },
        "id": "oydKQCJku94z",
        "outputId": "2ca85243-2912-46c2-c41b-451fd3f2bb19"
      },
      "outputs": [
        {
          "output_type": "stream",
          "name": "stdout",
          "text": [
            "0\n",
            "2\n",
            "4\n",
            "6\n",
            "8\n"
          ]
        }
      ],
      "source": [
        "for i in range(0,10,2):\n",
        "  #range from 0-9, step size is 2\n",
        "  print(i)"
      ]
    },
    {
      "cell_type": "code",
      "source": [
        "for i in range(10,0,-2):\n",
        "  print(i)"
      ],
      "metadata": {
        "colab": {
          "base_uri": "https://localhost:8080/"
        },
        "id": "SYgLzComvZu3",
        "outputId": "b3ea56b3-6344-496f-9923-307a9bec1fff"
      },
      "execution_count": 5,
      "outputs": [
        {
          "output_type": "stream",
          "name": "stdout",
          "text": [
            "10\n",
            "8\n",
            "6\n",
            "4\n",
            "2\n"
          ]
        }
      ]
    },
    {
      "cell_type": "code",
      "source": [
        "name = 'surya'\n",
        "for i in name:\n",
        "  print(i)"
      ],
      "metadata": {
        "colab": {
          "base_uri": "https://localhost:8080/"
        },
        "id": "V-eS4739vpK2",
        "outputId": "92dbb9bf-78de-4ee5-bba5-1ed4e4afcb52"
      },
      "execution_count": 6,
      "outputs": [
        {
          "output_type": "stream",
          "name": "stdout",
          "text": [
            "s\n",
            "u\n",
            "r\n",
            "y\n",
            "a\n"
          ]
        }
      ]
    },
    {
      "cell_type": "code",
      "source": [
        "count=0\n",
        "while count<5:\n",
        "  print(count)\n",
        "  count+=1"
      ],
      "metadata": {
        "colab": {
          "base_uri": "https://localhost:8080/"
        },
        "id": "0id79PmRw886",
        "outputId": "1640f0d5-aa6c-4af5-fe2c-e18015e40f01"
      },
      "execution_count": 7,
      "outputs": [
        {
          "output_type": "stream",
          "name": "stdout",
          "text": [
            "0\n",
            "1\n",
            "2\n",
            "3\n",
            "4\n"
          ]
        }
      ]
    },
    {
      "cell_type": "code",
      "source": [
        "for i in range(10):\n",
        "  if i==3:\n",
        "    print(\"number is unlucky for me and i dont want to print this\")\n",
        "    continue # skips the rest of the statements below it and goes to next iteration\n",
        "  if i==5:\n",
        "    break #Breaks out of the loop\n",
        "  print(i)\n",
        "print(\"Loop broken post 5\")"
      ],
      "metadata": {
        "colab": {
          "base_uri": "https://localhost:8080/"
        },
        "id": "xLKEcyjzxuq5",
        "outputId": "ca631927-b43e-4702-897d-5aeda9872666"
      },
      "execution_count": 12,
      "outputs": [
        {
          "output_type": "stream",
          "name": "stdout",
          "text": [
            "0\n",
            "1\n",
            "2\n",
            "number is unlucky for me and i dont want to print this\n",
            "4\n",
            "Loop broken post 5\n"
          ]
        }
      ]
    },
    {
      "cell_type": "markdown",
      "source": [
        "#There is one more loop control statement called 'pass'. This is just used as a filler so that the if else, for blocks which requires a mandatory statement does not thrown any error"
      ],
      "metadata": {
        "id": "hWHG9g2O0bU0"
      }
    },
    {
      "cell_type": "code",
      "source": [
        "for m in range(5):\n",
        "  for n in range(5):\n",
        "    print(f\"m is {m} and n is {n}\") # This is called f-string formatting"
      ],
      "metadata": {
        "colab": {
          "base_uri": "https://localhost:8080/"
        },
        "id": "rd49XTBA0cfQ",
        "outputId": "2fdb1b6d-f818-463f-ab90-80577be9ec2c"
      },
      "execution_count": 16,
      "outputs": [
        {
          "output_type": "stream",
          "name": "stdout",
          "text": [
            "m is 0 and n is 0\n",
            "m is 0 and n is 1\n",
            "m is 0 and n is 2\n",
            "m is 0 and n is 3\n",
            "m is 0 and n is 4\n",
            "m is 1 and n is 0\n",
            "m is 1 and n is 1\n",
            "m is 1 and n is 2\n",
            "m is 1 and n is 3\n",
            "m is 1 and n is 4\n",
            "m is 2 and n is 0\n",
            "m is 2 and n is 1\n",
            "m is 2 and n is 2\n",
            "m is 2 and n is 3\n",
            "m is 2 and n is 4\n",
            "m is 3 and n is 0\n",
            "m is 3 and n is 1\n",
            "m is 3 and n is 2\n",
            "m is 3 and n is 3\n",
            "m is 3 and n is 4\n",
            "m is 4 and n is 0\n",
            "m is 4 and n is 1\n",
            "m is 4 and n is 2\n",
            "m is 4 and n is 3\n",
            "m is 4 and n is 4\n"
          ]
        }
      ]
    },
    {
      "cell_type": "code",
      "source": [
        "#sum of n natural numbers using for loop\n",
        "\n",
        "n=int(input(\"Enter number:\"))\n",
        "sum=0\n",
        "for i in range(1,n+1):\n",
        "  sum=sum+i\n",
        "print(sum)"
      ],
      "metadata": {
        "colab": {
          "base_uri": "https://localhost:8080/"
        },
        "id": "aGYqIj8M1bfD",
        "outputId": "466bfa73-2b4a-4093-cc96-3a32e4693cbf"
      },
      "execution_count": 20,
      "outputs": [
        {
          "output_type": "stream",
          "name": "stdout",
          "text": [
            "Enter number:5\n",
            "15\n"
          ]
        }
      ]
    },
    {
      "cell_type": "code",
      "source": [
        "#sum of n natural numbers using while loop\n",
        "\n",
        "m=int(input(\"Enter number:\"))\n",
        "sum1=0\n",
        "j=1\n",
        "while (j<=m):\n",
        "  sum1=sum1+j\n",
        "  j+=1\n",
        "print(sum1)"
      ],
      "metadata": {
        "colab": {
          "base_uri": "https://localhost:8080/"
        },
        "id": "cxB-Eays13Xs",
        "outputId": "66a87f40-c881-40d8-9f47-3f9912fae4e1"
      },
      "execution_count": 21,
      "outputs": [
        {
          "output_type": "stream",
          "name": "stdout",
          "text": [
            "Enter number:5\n",
            "15\n"
          ]
        }
      ]
    },
    {
      "cell_type": "code",
      "source": [
        "#Prime numbers between 1 and 100\n",
        "for i in range(2,101):\n",
        "  count=0\n",
        "  for j in range(1,i+1):\n",
        "    if(i%j==0):\n",
        "      count=count+1\n",
        "  if count==2:\n",
        "    print(f\"{i} is prime\")\n",
        "  else:\n",
        "    pass"
      ],
      "metadata": {
        "colab": {
          "base_uri": "https://localhost:8080/"
        },
        "id": "6lvPZEkF3O5z",
        "outputId": "562edb58-1f9e-455a-c30f-25493ce71b72"
      },
      "execution_count": 25,
      "outputs": [
        {
          "output_type": "stream",
          "name": "stdout",
          "text": [
            "2 is prime\n",
            "3 is prime\n",
            "5 is prime\n",
            "7 is prime\n",
            "11 is prime\n",
            "13 is prime\n",
            "17 is prime\n",
            "19 is prime\n",
            "23 is prime\n",
            "29 is prime\n",
            "31 is prime\n",
            "37 is prime\n",
            "41 is prime\n",
            "43 is prime\n",
            "47 is prime\n",
            "53 is prime\n",
            "59 is prime\n",
            "61 is prime\n",
            "67 is prime\n",
            "71 is prime\n",
            "73 is prime\n",
            "79 is prime\n",
            "83 is prime\n",
            "89 is prime\n",
            "97 is prime\n"
          ]
        }
      ]
    },
    {
      "cell_type": "markdown",
      "source": [
        "#While the code is correct, it can be made more efficient. The inner loop for j only needs to go up to the square root of i. If a number i has a divisor larger than its square root, it must also have a corresponding divisor that is smaller than its square root."
      ],
      "metadata": {
        "id": "ysKJgnvm6f0X"
      }
    },
    {
      "cell_type": "code",
      "source": [],
      "metadata": {
        "id": "8qbvOeRB6hQW"
      },
      "execution_count": null,
      "outputs": []
    }
  ]
}