{
  "nbformat": 4,
  "nbformat_minor": 0,
  "metadata": {
    "colab": {
      "provenance": []
    },
    "kernelspec": {
      "name": "python3",
      "display_name": "Python 3"
    },
    "language_info": {
      "name": "python"
    }
  },
  "cells": [
    {
      "cell_type": "code",
      "execution_count": 2,
      "metadata": {
        "colab": {
          "base_uri": "https://localhost:8080/"
        },
        "id": "v6-0qhiVVuYF",
        "outputId": "3642b208-feef-4fd6-c372-a30b9d1def9e"
      },
      "outputs": [
        {
          "output_type": "execute_result",
          "data": {
            "text/plain": [
              "dict"
            ]
          },
          "metadata": {},
          "execution_count": 2
        }
      ],
      "source": [
        "#Key value pairs\n",
        "#Key cannot change, values can change and can be unordered\n",
        "\n",
        "empty_dict={}\n",
        "type(empty_dict)\n",
        "\n",
        "empty_dict1=dict()\n",
        "type(empty_dict1)"
      ]
    },
    {
      "cell_type": "code",
      "source": [
        "student = {\"name\":\"mike\",\"age\":32,\"grade\":\"XI\"}\n",
        "print(student)"
      ],
      "metadata": {
        "colab": {
          "base_uri": "https://localhost:8080/"
        },
        "id": "xWWPO2XtWYqr",
        "outputId": "20d644b2-cd81-43b6-c365-67693a2387af"
      },
      "execution_count": 6,
      "outputs": [
        {
          "output_type": "stream",
          "name": "stdout",
          "text": [
            "{'name': 'mike', 'age': 32, 'grade': 'XI'}\n"
          ]
        }
      ]
    },
    {
      "cell_type": "code",
      "source": [
        "student = {\"name\":\"mike\",\"age\":32,\"name\":\"XI\"}\n",
        "print(student)\n",
        "#Recent key value taken"
      ],
      "metadata": {
        "colab": {
          "base_uri": "https://localhost:8080/"
        },
        "id": "kfoyMOyIXQEP",
        "outputId": "4cad20bd-5129-4180-8f54-1e9c2fa00bb6"
      },
      "execution_count": 7,
      "outputs": [
        {
          "output_type": "stream",
          "name": "stdout",
          "text": [
            "{'name': 'XI', 'age': 32}\n"
          ]
        }
      ]
    },
    {
      "cell_type": "code",
      "source": [
        "student = {\"name\":\"mike\",\"age\":32,\"grade\":\"XI\"}\n",
        "print(student[\"name\"])\n",
        "#accessing elements using key name directly\n",
        "print(student[\"age\"])\n",
        "#another name\n",
        "print(student.get(\"name\"))\n",
        "print(student.get(\"grade\"))"
      ],
      "metadata": {
        "colab": {
          "base_uri": "https://localhost:8080/"
        },
        "id": "mSCHWhkIXY_m",
        "outputId": "0d69e10a-b34e-46e1-f995-548de50cd713"
      },
      "execution_count": 11,
      "outputs": [
        {
          "output_type": "stream",
          "name": "stdout",
          "text": [
            "mike\n",
            "32\n",
            "mike\n",
            "XI\n"
          ]
        }
      ]
    },
    {
      "cell_type": "code",
      "source": [
        "print(student.get(\"last name\"))\n",
        "print(student.get(\"last name\",\"value not present\"))\n",
        "#You get none if you provide a key name which is not present"
      ],
      "metadata": {
        "colab": {
          "base_uri": "https://localhost:8080/"
        },
        "id": "ZA0yK7jUX3eH",
        "outputId": "bbba8b2e-8773-46b4-d1ee-a9dd5b51e75e"
      },
      "execution_count": 16,
      "outputs": [
        {
          "output_type": "stream",
          "name": "stdout",
          "text": [
            "None\n",
            "value not present\n"
          ]
        }
      ]
    },
    {
      "cell_type": "code",
      "source": [
        "#To add new keys and update values for old keys\n",
        "student[\"name\"]=\"andrew\"\n",
        "print(student)\n",
        "student[\"last name\"] = \"strauss\"\n",
        "print(student)"
      ],
      "metadata": {
        "colab": {
          "base_uri": "https://localhost:8080/"
        },
        "id": "FS70g6mkYsGW",
        "outputId": "2ad07634-13da-4ee9-da55-b62aa41d6315"
      },
      "execution_count": 20,
      "outputs": [
        {
          "output_type": "stream",
          "name": "stdout",
          "text": [
            "{'name': 'andrew', 'age': 32, 'grade': 'XI', 'last name': 'strauss'}\n",
            "{'name': 'andrew', 'age': 32, 'grade': 'XI', 'last name': 'strauss'}\n"
          ]
        }
      ]
    },
    {
      "cell_type": "code",
      "source": [
        "#To delete key and value\n",
        "del student[\"grade\"]"
      ],
      "metadata": {
        "id": "j-CncX_UZK83"
      },
      "execution_count": 21,
      "outputs": []
    },
    {
      "cell_type": "code",
      "source": [
        "print(student)"
      ],
      "metadata": {
        "colab": {
          "base_uri": "https://localhost:8080/"
        },
        "id": "l18Jm1_iZSM7",
        "outputId": "fa510eb0-8939-45d5-b862-d50aa99c1633"
      },
      "execution_count": 22,
      "outputs": [
        {
          "output_type": "stream",
          "name": "stdout",
          "text": [
            "{'name': 'andrew', 'age': 32, 'last name': 'strauss'}\n"
          ]
        }
      ]
    },
    {
      "cell_type": "code",
      "source": [
        "#Common dictionary methods\n",
        "keys=student.keys()\n",
        "values=student.values()\n",
        "print(keys,values)\n"
      ],
      "metadata": {
        "colab": {
          "base_uri": "https://localhost:8080/"
        },
        "id": "NEot1m8RZbUA",
        "outputId": "a5adb1a3-c363-4751-cba1-9c9b47848186"
      },
      "execution_count": 25,
      "outputs": [
        {
          "output_type": "stream",
          "name": "stdout",
          "text": [
            "dict_keys(['name', 'age', 'last name']) dict_values(['andrew', 32, 'strauss'])\n"
          ]
        }
      ]
    },
    {
      "cell_type": "code",
      "source": [
        "print(student.items())"
      ],
      "metadata": {
        "colab": {
          "base_uri": "https://localhost:8080/"
        },
        "id": "1v_OkBovZ5lg",
        "outputId": "bd9f3053-8671-429b-bdf1-488e5a39b1d4"
      },
      "execution_count": 26,
      "outputs": [
        {
          "output_type": "stream",
          "name": "stdout",
          "text": [
            "dict_items([('name', 'andrew'), ('age', 32), ('last name', 'strauss')])\n"
          ]
        }
      ]
    },
    {
      "cell_type": "code",
      "source": [
        "#Never do a full copy!!!\n",
        "\n",
        "student_copy=student\n",
        "student[\"name\"] = \"Kevin\"\n",
        "print(student)\n",
        "print(student_copy)\n",
        "\n",
        "#You see names in both dictionaries have changed!!!"
      ],
      "metadata": {
        "colab": {
          "base_uri": "https://localhost:8080/"
        },
        "id": "ObowXMwsao-0",
        "outputId": "c5a5e88c-46a8-4ca1-87d1-07c5824fc42e"
      },
      "execution_count": 27,
      "outputs": [
        {
          "output_type": "stream",
          "name": "stdout",
          "text": [
            "{'name': 'Kevin', 'age': 32, 'last name': 'strauss'}\n",
            "{'name': 'Kevin', 'age': 32, 'last name': 'strauss'}\n"
          ]
        }
      ]
    },
    {
      "cell_type": "code",
      "source": [
        "#To avoid this problem, we do a shallow copy\n",
        "\n",
        "student_copy1=student.copy()\n",
        "student[\"age\"]=50\n",
        "print(student)\n",
        "print(student_copy1)"
      ],
      "metadata": {
        "colab": {
          "base_uri": "https://localhost:8080/"
        },
        "id": "1Xr-cduqa5bK",
        "outputId": "1c7c6670-133c-4bfe-98cd-6eea6099ef03"
      },
      "execution_count": 28,
      "outputs": [
        {
          "output_type": "stream",
          "name": "stdout",
          "text": [
            "{'name': 'Kevin', 'age': 50, 'last name': 'strauss'}\n",
            "{'name': 'Kevin', 'age': 32, 'last name': 'strauss'}\n"
          ]
        }
      ]
    },
    {
      "cell_type": "code",
      "source": [
        "#Iteration over dictionaries\n",
        "\n",
        "for keys in student.keys():\n",
        "  print(keys)\n",
        "\n",
        "for values in student.values():\n",
        "  print(values)\n",
        "\n",
        "for keys, values in student.items():\n",
        "  print(f\"{keys},{values}\")"
      ],
      "metadata": {
        "colab": {
          "base_uri": "https://localhost:8080/"
        },
        "id": "smoFDiPCboif",
        "outputId": "313f8bce-324e-48ee-f7d2-e89f3f8d2c0c"
      },
      "execution_count": 32,
      "outputs": [
        {
          "output_type": "stream",
          "name": "stdout",
          "text": [
            "name\n",
            "age\n",
            "last name\n",
            "Kevin\n",
            "50\n",
            "strauss\n",
            "name,Kevin\n",
            "age,50\n",
            "last name,strauss\n"
          ]
        }
      ]
    },
    {
      "cell_type": "code",
      "source": [
        "#Nested dictionaries\n",
        "students = {\n",
        "    \"student_1\":{\"name\":\"virat\",\"age\":32,\"runs\":7000},\n",
        "    \"student_2\":{\"name\":\"pujara\",\"age\":33,\"runs\":8000}\n",
        "}\n",
        "print(students)"
      ],
      "metadata": {
        "colab": {
          "base_uri": "https://localhost:8080/"
        },
        "id": "-0-SOza_dL3z",
        "outputId": "5ef55b14-13df-4d58-ec2b-343d8ce272a5"
      },
      "execution_count": 34,
      "outputs": [
        {
          "output_type": "stream",
          "name": "stdout",
          "text": [
            "{'student_1': {'name': 'virat', 'age': 32, 'runs': 7000}, 'student_2': {'name': 'pujara', 'age': 33, 'runs': 8000}}\n"
          ]
        }
      ]
    },
    {
      "cell_type": "code",
      "source": [
        "#Reading nested dictionaries\n",
        "print(students[\"student_1\"][\"runs\"])\n",
        "print(students.get(\"student_2\").get(\"runs\"))"
      ],
      "metadata": {
        "colab": {
          "base_uri": "https://localhost:8080/"
        },
        "id": "Ix8okWvNdvcI",
        "outputId": "b65fe4e4-e770-45a8-dbdb-59bb0d0d8c8c"
      },
      "execution_count": 38,
      "outputs": [
        {
          "output_type": "stream",
          "name": "stdout",
          "text": [
            "7000\n",
            "8000\n"
          ]
        }
      ]
    },
    {
      "cell_type": "code",
      "source": [
        "#Iterating over nested dictionaries\n",
        "for student_id, student_info in students.items():\n",
        "  print(f\"{student_id},{student_info}\")\n",
        "  for keys1, values1 in student_info.items():\n",
        "    print(f\"{keys},{values}\")"
      ],
      "metadata": {
        "colab": {
          "base_uri": "https://localhost:8080/"
        },
        "id": "pn3h1mZReT6Q",
        "outputId": "9852e1bf-5874-42b7-cc2e-028559a51db0"
      },
      "execution_count": 43,
      "outputs": [
        {
          "output_type": "stream",
          "name": "stdout",
          "text": [
            "student_1,{'name': 'virat', 'age': 32, 'runs': 7000}\n",
            "last name,strauss\n",
            "last name,strauss\n",
            "last name,strauss\n",
            "student_2,{'name': 'pujara', 'age': 33, 'runs': 8000}\n",
            "last name,strauss\n",
            "last name,strauss\n",
            "last name,strauss\n"
          ]
        }
      ]
    },
    {
      "cell_type": "code",
      "source": [
        "#Dictionary comprehension\n",
        "squares=dict()\n",
        "for i in range(0,5):\n",
        "  squares[i]=i*i\n",
        "\n",
        "print(squares)\n",
        "#above using normal for loop\n",
        "\n",
        "#Below is dictionary comprehension\n",
        "squares_comp={i:i*i for i in range(0,5)}\n",
        "print(squares_comp)\n",
        "\n",
        "\n"
      ],
      "metadata": {
        "colab": {
          "base_uri": "https://localhost:8080/"
        },
        "id": "PQqaDZOefdKJ",
        "outputId": "5ed7242a-6e4f-4e68-8015-78f78b4494ed"
      },
      "execution_count": 45,
      "outputs": [
        {
          "output_type": "stream",
          "name": "stdout",
          "text": [
            "{0: 0, 1: 1, 2: 4, 3: 9, 4: 16}\n",
            "{0: 0, 1: 1, 2: 4, 3: 9, 4: 16}\n"
          ]
        }
      ]
    },
    {
      "cell_type": "code",
      "source": [
        "squares_comp_mod={i:(i*i if i%2==0 else i) for i in range(0,5)}\n",
        "#Condition applied only to the value part"
      ],
      "metadata": {
        "id": "2TUISe2Eg9Wp"
      },
      "execution_count": 47,
      "outputs": []
    },
    {
      "cell_type": "code",
      "source": [
        "print(squares_comp_mod)"
      ],
      "metadata": {
        "colab": {
          "base_uri": "https://localhost:8080/"
        },
        "id": "yEyPNGeQhZ0z",
        "outputId": "f0e6b9c6-6d6f-4b89-9cae-1144690fdf07"
      },
      "execution_count": 48,
      "outputs": [
        {
          "output_type": "stream",
          "name": "stdout",
          "text": [
            "{0: 0, 1: 1, 2: 4, 3: 3, 4: 16}\n"
          ]
        }
      ]
    },
    {
      "cell_type": "code",
      "source": [
        "#frequency of elements in a list\n",
        "lst=[1,2,2,2,3,4,5,5,5,3,7,6,6,8,4,7,9]\n",
        "frequency_counter=dict()\n",
        "set_lst=set(lst)\n",
        "for i in set_lst:\n",
        "  frequency_counter[i]=lst.count(i)\n",
        "\n",
        "print(frequency_counter)"
      ],
      "metadata": {
        "colab": {
          "base_uri": "https://localhost:8080/"
        },
        "id": "t19tkDiih4nK",
        "outputId": "f6b29752-0ff9-4002-aa52-9365b9bf7a5c"
      },
      "execution_count": 54,
      "outputs": [
        {
          "output_type": "stream",
          "name": "stdout",
          "text": [
            "{1: 1, 2: 3, 3: 2, 4: 2, 5: 3, 6: 2, 7: 2, 8: 1, 9: 1}\n"
          ]
        }
      ]
    },
    {
      "cell_type": "code",
      "source": [
        "#Merging 2 dictionaries\n",
        "\n",
        "dict_1={\"a\":1,\"b\":2}\n",
        "dict_2={\"c\":2,\"d\":4}\n",
        "\n",
        "merged_dict={**dict_1,**dict_2}\n",
        "print(merged_dict)\n",
        "\n",
        "#** unpacks all key value pairs and puts them into the new dictionary"
      ],
      "metadata": {
        "colab": {
          "base_uri": "https://localhost:8080/"
        },
        "id": "5N5ZUW3_jstM",
        "outputId": "f5afc806-f670-4c24-d963-132a7e14e354"
      },
      "execution_count": 57,
      "outputs": [
        {
          "output_type": "stream",
          "name": "stdout",
          "text": [
            "{'a': 1, 'b': 2, 'c': 2, 'd': 4}\n"
          ]
        }
      ]
    },
    {
      "cell_type": "code",
      "source": [
        "dict_1[\"x\"]=4"
      ],
      "metadata": {
        "id": "V7xYdynYkw-h"
      },
      "execution_count": 60,
      "outputs": []
    },
    {
      "cell_type": "code",
      "source": [
        "print(merged_dict)"
      ],
      "metadata": {
        "colab": {
          "base_uri": "https://localhost:8080/"
        },
        "id": "7yTAtC0Nk1JK",
        "outputId": "ba0f139e-5313-4523-8427-4a643b35d30a"
      },
      "execution_count": 61,
      "outputs": [
        {
          "output_type": "stream",
          "name": "stdout",
          "text": [
            "{'a': 1, 'b': 2, 'c': 2, 'd': 4}\n"
          ]
        }
      ]
    }
  ]
}