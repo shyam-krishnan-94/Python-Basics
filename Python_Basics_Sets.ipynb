{
  "nbformat": 4,
  "nbformat_minor": 0,
  "metadata": {
    "colab": {
      "provenance": []
    },
    "kernelspec": {
      "name": "python3",
      "display_name": "Python 3"
    },
    "language_info": {
      "name": "python"
    }
  },
  "cells": [
    {
      "cell_type": "code",
      "execution_count": 2,
      "metadata": {
        "colab": {
          "base_uri": "https://localhost:8080/"
        },
        "id": "0VfwNan6Nheo",
        "outputId": "612bc001-4efe-4d85-98fd-8116b6827473"
      },
      "outputs": [
        {
          "output_type": "stream",
          "name": "stdout",
          "text": [
            "<class 'set'>\n",
            "{1, 2, 3, 4, 5, 6}\n"
          ]
        }
      ],
      "source": [
        "#Sets:\n",
        "\n",
        "#Do not allow duplication, unordered, used for membership functions such as union and intersection\n",
        "\n",
        "my_set={1,2,3,3,4,4,5,6}\n",
        "print(type(my_set))\n",
        "print(my_set)"
      ]
    },
    {
      "cell_type": "code",
      "source": [
        "#Basic set operations\n",
        "\n",
        "#Add and remove elements\n",
        "\n",
        "my_set.add(7)\n",
        "print(my_set)\n",
        "\n",
        "#my_set.remove(3)\n",
        "print(my_set)\n",
        "\n",
        "#my_set.remove(100)# will give error\n",
        "my_set.discard(10)"
      ],
      "metadata": {
        "colab": {
          "base_uri": "https://localhost:8080/"
        },
        "id": "j_zVD8uZOXOK",
        "outputId": "b944c2c6-272e-42ad-ea0b-def15f901b79"
      },
      "execution_count": 8,
      "outputs": [
        {
          "output_type": "stream",
          "name": "stdout",
          "text": [
            "{1, 2, 4, 5, 6, 7}\n",
            "{1, 2, 4, 5, 6, 7}\n"
          ]
        }
      ]
    },
    {
      "cell_type": "code",
      "source": [
        "removed_element=my_set.pop()#First in first out\n",
        "print(removed_element)\n",
        "print(my_set)\n",
        "#Clear will remove all elements"
      ],
      "metadata": {
        "colab": {
          "base_uri": "https://localhost:8080/"
        },
        "id": "cE7s9zQuO-__",
        "outputId": "4ca0542a-6e7a-4c44-e760-9e73833700d3"
      },
      "execution_count": 9,
      "outputs": [
        {
          "output_type": "stream",
          "name": "stdout",
          "text": [
            "1\n",
            "{2, 4, 5, 6, 7}\n"
          ]
        }
      ]
    },
    {
      "cell_type": "code",
      "source": [
        "#membership tests\n",
        "print(5 in my_set)\n",
        "print(100 in my_set)"
      ],
      "metadata": {
        "colab": {
          "base_uri": "https://localhost:8080/"
        },
        "id": "6AV8NhfOPesG",
        "outputId": "8768fc37-ba58-4a71-e384-3ed283ca1ec2"
      },
      "execution_count": 11,
      "outputs": [
        {
          "output_type": "stream",
          "name": "stdout",
          "text": [
            "True\n",
            "False\n"
          ]
        }
      ]
    },
    {
      "cell_type": "code",
      "source": [
        "set_1={1,2,3}\n",
        "set_2={3,4,5}\n",
        "print(set_1.union(set_2))\n",
        "print(set_1.intersection(set_2))\n",
        "print(set_1.difference(set_2))\n",
        "print(set_1.symmetric_difference(set_2))\n",
        "print(set_1.issuperset(set_2))"
      ],
      "metadata": {
        "colab": {
          "base_uri": "https://localhost:8080/"
        },
        "id": "hdftByrPPx5A",
        "outputId": "f2b60d80-41e1-4cbc-bf8b-68e13700f4b3"
      },
      "execution_count": 19,
      "outputs": [
        {
          "output_type": "stream",
          "name": "stdout",
          "text": [
            "{1, 2, 3, 4, 5}\n",
            "{3}\n",
            "{1, 2}\n",
            "{1, 2, 4, 5}\n",
            "False\n"
          ]
        }
      ]
    }
  ]
}