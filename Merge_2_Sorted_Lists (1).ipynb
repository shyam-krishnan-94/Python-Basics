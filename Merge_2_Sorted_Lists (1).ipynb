{
  "nbformat": 4,
  "nbformat_minor": 0,
  "metadata": {
    "colab": {
      "provenance": []
    },
    "kernelspec": {
      "name": "python3",
      "display_name": "Python 3"
    },
    "language_info": {
      "name": "python"
    }
  },
  "cells": [
    {
      "cell_type": "code",
      "execution_count": 16,
      "metadata": {
        "id": "Ly8PDOBukAUm"
      },
      "outputs": [],
      "source": [
        "def merge_two_sorted_lists(list1, list2):\n",
        "    if len(list1)==0 and len(list2)==0:\n",
        "        return 0\n",
        "    elif len(list1)==0 and len(list2)!=0:\n",
        "        return list2\n",
        "    elif len(list1)!=0 and len(list2)==0:\n",
        "        return list1\n",
        "    else:\n",
        "        lst=[]\n",
        "        count=0\n",
        "        for i in range(0,len(list1)):\n",
        "            for j in range(count,len(list2)):\n",
        "              if i==len(list1)-1 and j==len(list2)-1:\n",
        "                if list1[i]<list2[j]:\n",
        "                  lst.append(list1[i])\n",
        "                  lst.append(list2[j])\n",
        "                  break\n",
        "              elif(list1[i]<list2[j]):\n",
        "                    lst.append(list1[i])\n",
        "                    break\n",
        "              else:\n",
        "                lst.append(list2[j])\n",
        "                count=count+1\n",
        "        return lst\n",
        "    pass"
      ]
    },
    {
      "cell_type": "code",
      "source": [
        "list1=[1,3,5]\n",
        "list2=[2,4,6]\n",
        "print(merge_two_sorted_lists(list1, list2))"
      ],
      "metadata": {
        "colab": {
          "base_uri": "https://localhost:8080/"
        },
        "id": "9RPqUtwKkIYZ",
        "outputId": "08c1b590-0ae4-44a1-c714-483e36d04dee"
      },
      "execution_count": 17,
      "outputs": [
        {
          "output_type": "stream",
          "name": "stdout",
          "text": [
            "[1, 2, 3, 4, 5, 6]\n"
          ]
        }
      ]
    }
  ]
}