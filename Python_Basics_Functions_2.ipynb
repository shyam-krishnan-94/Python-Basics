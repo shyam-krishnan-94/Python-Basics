{
  "nbformat": 4,
  "nbformat_minor": 0,
  "metadata": {
    "colab": {
      "provenance": []
    },
    "kernelspec": {
      "name": "python3",
      "display_name": "Python 3"
    },
    "language_info": {
      "name": "python"
    }
  },
  "cells": [
    {
      "cell_type": "code",
      "execution_count": 3,
      "metadata": {
        "colab": {
          "base_uri": "https://localhost:8080/"
        },
        "id": "bnY8c255lPnO",
        "outputId": "4546c303-d67a-4ba6-8aac-4051200f96de"
      },
      "outputs": [
        {
          "output_type": "stream",
          "name": "stdout",
          "text": [
            "Yes\n"
          ]
        }
      ],
      "source": [
        "A=\"shyam1\"\n",
        "if any(char.isdigit() for char in A):\n",
        "  print(\"Yes\")"
      ]
    },
    {
      "cell_type": "code",
      "source": [
        "B=[1,2,3,4]\n",
        "if any(isinstance(element,str) for element in B):\n",
        "  print(\"The list contains a string character\")\n",
        "else:\n",
        "  print(\"All numbers only\")"
      ],
      "metadata": {
        "colab": {
          "base_uri": "https://localhost:8080/"
        },
        "id": "8LFK06y6nrnY",
        "outputId": "1e46c1be-4e5f-4e80-d131-d3e79839b494"
      },
      "execution_count": 4,
      "outputs": [
        {
          "output_type": "stream",
          "name": "stdout",
          "text": [
            "All numbers only\n"
          ]
        }
      ]
    },
    {
      "cell_type": "code",
      "source": [
        "def calculate_total_cost(shopping_cart):\n",
        "  total=0\n",
        "  lst=dict()\n",
        "  for i in shopping_cart:\n",
        "    lst[i[\"name\"]]=i[\"quantity\"]*i[\"price\"]\n",
        "  for keys, values in lst.items():\n",
        "    total+=values\n",
        "  print(total)"
      ],
      "metadata": {
        "id": "kODm6pvLonEp"
      },
      "execution_count": 40,
      "outputs": []
    },
    {
      "cell_type": "code",
      "source": [
        "Apple:0.28"
      ],
      "metadata": {
        "id": "buch6xXPsdIB"
      },
      "execution_count": null,
      "outputs": []
    },
    {
      "cell_type": "code",
      "source": [
        "cart_to_checkout=[{\"name\": \"Apple\",\"quantity\":4,\"price\":0.7},\n",
        "      {\"name\": \"Orange\",\"quantity\":2,\"price\":0.9},\n",
        "      {\"name\": \"Mango\",\"quantity\":6,\"price\":0.5},\n",
        "      {\"name\": \"Banana\",\"quantity\":8,\"price\":0.2}]\n",
        "#print(cart_to_checkout[1][\"quantity\"])\n",
        "calculate_total_cost(cart_to_checkout)"
      ],
      "metadata": {
        "colab": {
          "base_uri": "https://localhost:8080/"
        },
        "id": "ry9rHQWbou_E",
        "outputId": "0d829092-944e-466d-98ed-65de9cb673f4"
      },
      "execution_count": 41,
      "outputs": [
        {
          "output_type": "stream",
          "name": "stdout",
          "text": [
            "9.2\n"
          ]
        }
      ]
    },
    {
      "cell_type": "code",
      "source": [
        "#Factorial check\n",
        "\n",
        "def fact(n):\n",
        "  if n==1:\n",
        "    return 1\n",
        "  while(n>1):\n",
        "    return n*fact(n-1)\n"
      ],
      "metadata": {
        "id": "m9tWQ3SdqYmC"
      },
      "execution_count": 53,
      "outputs": []
    },
    {
      "cell_type": "code",
      "source": [
        "x=6\n",
        "print(fact(x))"
      ],
      "metadata": {
        "colab": {
          "base_uri": "https://localhost:8080/"
        },
        "id": "UlXZXTs6wByR",
        "outputId": "68dff99f-95ff-4580-c006-a88ea552c0f6"
      },
      "execution_count": 55,
      "outputs": [
        {
          "output_type": "stream",
          "name": "stdout",
          "text": [
            "720\n"
          ]
        }
      ]
    }
  ]
}