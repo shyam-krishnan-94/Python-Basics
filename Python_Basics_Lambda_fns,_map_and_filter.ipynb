{
  "nbformat": 4,
  "nbformat_minor": 0,
  "metadata": {
    "colab": {
      "provenance": []
    },
    "kernelspec": {
      "name": "python3",
      "display_name": "Python 3"
    },
    "language_info": {
      "name": "python"
    }
  },
  "cells": [
    {
      "cell_type": "code",
      "execution_count": 2,
      "metadata": {
        "colab": {
          "base_uri": "https://localhost:8080/"
        },
        "id": "TZx-o8B808jm",
        "outputId": "c7b75e09-3217-406f-b3f5-7888d5996bf7"
      },
      "outputs": [
        {
          "output_type": "execute_result",
          "data": {
            "text/plain": [
              "function"
            ]
          },
          "metadata": {},
          "execution_count": 2
        }
      ],
      "source": [
        "#lambda args: expn\n",
        "addition=lambda a,b: a+b\n",
        "type(addition)"
      ]
    },
    {
      "cell_type": "code",
      "source": [
        "addition(5,6)"
      ],
      "metadata": {
        "colab": {
          "base_uri": "https://localhost:8080/"
        },
        "id": "xvwL0pDz1jft",
        "outputId": "06ebe177-e671-4cc7-ef07-3316ad1ff27c"
      },
      "execution_count": 3,
      "outputs": [
        {
          "output_type": "execute_result",
          "data": {
            "text/plain": [
              "11"
            ]
          },
          "metadata": {},
          "execution_count": 3
        }
      ]
    },
    {
      "cell_type": "code",
      "source": [
        "even_or_odd=lambda a: True if a%2==0 else False"
      ],
      "metadata": {
        "id": "c4aObVbf1tMQ"
      },
      "execution_count": 4,
      "outputs": []
    },
    {
      "cell_type": "code",
      "source": [
        "even_or_odd(3)"
      ],
      "metadata": {
        "colab": {
          "base_uri": "https://localhost:8080/"
        },
        "id": "Ev76sIJt2NKI",
        "outputId": "d47ecf8d-dfaa-43e7-ee58-6a05235631b4"
      },
      "execution_count": 5,
      "outputs": [
        {
          "output_type": "execute_result",
          "data": {
            "text/plain": [
              "False"
            ]
          },
          "metadata": {},
          "execution_count": 5
        }
      ]
    },
    {
      "cell_type": "code",
      "source": [
        "#Map applies a function to all items in a list\n",
        "#Syntax -: map(lambda args:expn, iterable) generally map(fn, iterable)\n",
        "#The results stored in a memory location, to display the result, we have to assign the map to another variable of the same data type as the iterable"
      ],
      "metadata": {
        "id": "Z3lQ43zr29NT"
      },
      "execution_count": null,
      "outputs": []
    },
    {
      "cell_type": "code",
      "source": [
        "#Using map functions\n",
        "numbers=[1,2,3,4,5]\n",
        "squares=list(map(lambda X:X**2, numbers))\n",
        "print(squares)"
      ],
      "metadata": {
        "colab": {
          "base_uri": "https://localhost:8080/"
        },
        "id": "z_xECBUM3sgY",
        "outputId": "d46fa983-2162-4007-9dd7-6ab7b1600672"
      },
      "execution_count": 7,
      "outputs": [
        {
          "output_type": "stream",
          "name": "stdout",
          "text": [
            "[1, 4, 9, 16, 25]\n"
          ]
        }
      ]
    },
    {
      "cell_type": "code",
      "source": [
        "numbers_1=[1,2,3]\n",
        "numbers_2=[4,5,6]\n",
        "add_numbers=list(map(lambda x,y: x+y, numbers_1,numbers_2))"
      ],
      "metadata": {
        "id": "gbwd_4Do40Gk"
      },
      "execution_count": 8,
      "outputs": []
    },
    {
      "cell_type": "code",
      "source": [
        "print(add_numbers)"
      ],
      "metadata": {
        "colab": {
          "base_uri": "https://localhost:8080/"
        },
        "id": "rD6-lJhd5GzH",
        "outputId": "816bebee-c613-4aa5-a935-f11c3ed0714a"
      },
      "execution_count": 9,
      "outputs": [
        {
          "output_type": "stream",
          "name": "stdout",
          "text": [
            "[5, 7, 9]\n"
          ]
        }
      ]
    },
    {
      "cell_type": "code",
      "source": [
        "#Filter applies a function to filter out elements from an iterable\n",
        "#Syntax -: filter(fn, iterable)\n",
        "#The same logic of getting results as map applies to filter also"
      ],
      "metadata": {
        "id": "0U8Wj5ah64_H"
      },
      "execution_count": null,
      "outputs": []
    },
    {
      "cell_type": "code",
      "source": [
        "B=list(filter(lambda a: a%2==0,numbers_2))\n",
        "print(B)\n",
        "#Only the values returning true will be put in the new list A"
      ],
      "metadata": {
        "colab": {
          "base_uri": "https://localhost:8080/"
        },
        "id": "gAPcLqaS7RB6",
        "outputId": "6833d5c4-f028-4389-e6a3-24bbe8667ecb"
      },
      "execution_count": 13,
      "outputs": [
        {
          "output_type": "stream",
          "name": "stdout",
          "text": [
            "[4, 6]\n"
          ]
        }
      ]
    },
    {
      "cell_type": "code",
      "source": [
        "A=list(filter(lambda a: a>5,add_numbers))\n",
        "print(A)\n",
        "#Only the values returning true will be put in the new list A"
      ],
      "metadata": {
        "colab": {
          "base_uri": "https://localhost:8080/"
        },
        "id": "-kft-s0-8Q5O",
        "outputId": "ac483505-0d06-49df-f76f-a3863407fcea"
      },
      "execution_count": 14,
      "outputs": [
        {
          "output_type": "stream",
          "name": "stdout",
          "text": [
            "[7, 9]\n"
          ]
        }
      ]
    },
    {
      "cell_type": "code",
      "source": [
        "new_numbers=[1,2,3,4,5,6,7,8,9,10]\n",
        "C=list(filter(lambda a: a>5 and a%2==0,new_numbers))\n",
        "print(C)"
      ],
      "metadata": {
        "colab": {
          "base_uri": "https://localhost:8080/"
        },
        "id": "msf_XjHC898R",
        "outputId": "1d5afa84-c41f-4cf5-e6ad-658bd601a900"
      },
      "execution_count": 16,
      "outputs": [
        {
          "output_type": "stream",
          "name": "stdout",
          "text": [
            "[6, 8, 10]\n"
          ]
        }
      ]
    },
    {
      "cell_type": "code",
      "source": [
        "#Apply filter to check if age>25 in dict\n",
        "\n",
        "D=[{\"name\":\"shyam\",\"age\":25},\n",
        "   {\"name\":\"rahul\",\"age\":27},\n",
        "   {\"name\":\"mike\",\"age\":28}]\n",
        "\n",
        "#Get the name of the person who is greater than 25\n",
        "\n",
        "def get_name(E):\n",
        "  return E[\"age\"]>25\n",
        "\n",
        "F=list(filter(get_name,D))\n",
        "print(F)\n"
      ],
      "metadata": {
        "colab": {
          "base_uri": "https://localhost:8080/"
        },
        "id": "jAweV-yA9Nf4",
        "outputId": "d233358c-42a2-44e5-df1d-9aff06a3463d"
      },
      "execution_count": 27,
      "outputs": [
        {
          "output_type": "stream",
          "name": "stdout",
          "text": [
            "[{'name': 'rahul', 'age': 27}, {'name': 'mike', 'age': 28}]\n"
          ]
        }
      ]
    },
    {
      "cell_type": "code",
      "source": [
        "#Recollection of Lambda\n",
        "greater_than_5=lambda a: a>5\n",
        "print(greater_than_5(6))"
      ],
      "metadata": {
        "colab": {
          "base_uri": "https://localhost:8080/"
        },
        "id": "Xkyqwtfj8ky6",
        "outputId": "2fa698e1-9435-4939-b689-8d97243b5d75"
      },
      "execution_count": 15,
      "outputs": [
        {
          "output_type": "stream",
          "name": "stdout",
          "text": [
            "True\n"
          ]
        }
      ]
    }
  ]
}