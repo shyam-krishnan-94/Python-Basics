{
  "nbformat": 4,
  "nbformat_minor": 0,
  "metadata": {
    "colab": {
      "provenance": []
    },
    "kernelspec": {
      "name": "python3",
      "display_name": "Python 3"
    },
    "language_info": {
      "name": "python"
    }
  },
  "cells": [
    {
      "cell_type": "code",
      "execution_count": 1,
      "metadata": {
        "colab": {
          "base_uri": "https://localhost:8080/"
        },
        "id": "lF36rCS9hTbQ",
        "outputId": "aff99451-5dcd-47f9-9f1f-bea0e8624865"
      },
      "outputs": [
        {
          "output_type": "stream",
          "name": "stdout",
          "text": [
            "Nice work!\n"
          ]
        }
      ],
      "source": [
        "age=30\n",
        "\n",
        "if age>=25:\n",
        "  print(\"Nice work!\")"
      ]
    },
    {
      "cell_type": "code",
      "source": [
        "age=int(input(\"Enter age:\"))\n",
        "\n",
        "if age>=18:\n",
        "  print(\"You are allowed to vote!\")\n",
        "else:\n",
        "  print(\"You are too young!\")"
      ],
      "metadata": {
        "colab": {
          "base_uri": "https://localhost:8080/"
        },
        "id": "lXnu_DByiVic",
        "outputId": "2939d969-4fd1-4f64-9517-d10c9899acb1"
      },
      "execution_count": 3,
      "outputs": [
        {
          "output_type": "stream",
          "name": "stdout",
          "text": [
            "Enter age:30\n",
            "You are allowed to vote!\n"
          ]
        }
      ]
    },
    {
      "cell_type": "markdown",
      "source": [
        "The Scenario\n",
        "\n",
        "You are an adventurer searching for the legendary Amulet of Zargos rumored to be hidden in the Forgotten Forest.\n",
        "\n",
        "Your journey begins at a fork in the road. You can go left or right.\n",
        "\n",
        "If you go left, you encounter a large, grumpy troll.\n",
        "\n",
        "To get past the troll, you have two choices:\n",
        "\n",
        "Fight the troll. If you win, you find a chest.\n",
        "\n",
        "Bribe the troll. If you do, the troll lets you pass and you find the chest.\n",
        "\n",
        "If you go right, you find a mysterious cave.\n",
        "\n",
        "Inside the cave, there are two paths:\n",
        "\n",
        "Take the red path. It leads to a pit trap and you lose.\n",
        "\n",
        "Take the blue path. It leads to the treasure.\n",
        "\n",
        "Your task is to write a program that simulates this adventure. The program should:\n",
        "\n",
        "Ask the player to choose their first path (left or right).\n",
        "\n",
        "Based on that choice, ask them a second question (e.g., fight or bribe the troll, or take the red or blue path).\n",
        "\n",
        "Use nested if, elif, and else statements to determine the final outcome and print a message to the player.\n",
        "\n",
        "Here are the potential outcomes:\n",
        "\n",
        "Left -> Fight: You defeat the troll and find the chest. (Success!)\n",
        "\n",
        "Left -> Bribe: You successfully bribe the troll and find the chest. (Success!)\n",
        "\n",
        "Right -> Red: You fall into a pit trap. Game over. (Failure)\n",
        "\n",
        "Right -> Blue: You find the Amulet of Zargos. You win! (Success!)\n",
        "\n",
        "Any invalid choice at any point should lead to a message like \"Invalid choice. The adventure ends here.\""
      ],
      "metadata": {
        "id": "R3ggs-wrkNzn"
      }
    },
    {
      "cell_type": "code",
      "source": [
        "first_choice=input(\"You are at the fork! Which direction you would like to take? L or R:\")\n",
        "if first_choice == 'L':\n",
        "  second_choice=input(\"Would you like to fight or bribe the troll? F or B:\")\n",
        "  if second_choice == 'F':\n",
        "    print(\"You win by fighting and you have found the chest!\")\n",
        "  elif second_choice == 'B':\n",
        "    print(\"You win by bribing and you have found the chest!\")\n",
        "  else:\n",
        "    print(\"Invalid input! The adventure ends here!\")\n",
        "elif first_choice == 'R':\n",
        "  second_choice=input(\"Would you like to take red or blue path? R or B:\")\n",
        "  if second_choice == 'R':\n",
        "    print(\"You have fallen in the pit trap! You lose!\")\n",
        "  elif second_choice == 'B':\n",
        "    print(\"You have found the treasure!\")\n",
        "  else:\n",
        "    print(\"Invalid input! The adventure ends here!\")\n",
        "else:\n",
        "  print(\"Invalid input! The adventure ends here!\")\n"
      ],
      "metadata": {
        "colab": {
          "base_uri": "https://localhost:8080/"
        },
        "id": "XGyKGlgzkOeI",
        "outputId": "187ab213-d36d-4767-d9af-45d211698fe2"
      },
      "execution_count": 4,
      "outputs": [
        {
          "output_type": "stream",
          "name": "stdout",
          "text": [
            "You are at the fork! Which direction you would like to take? L or R:R\n",
            "Would you like to take red or blue path? R or B:R\n",
            "You have fallen in the pit trap! You lose!\n"
          ]
        }
      ]
    },
    {
      "cell_type": "code",
      "source": [
        "#Leap year check\n",
        "year = int(input(\"Enter year to check:\"))\n",
        "if year%4==0:\n",
        "  if year%100==0:\n",
        "    if year%400==0:\n",
        "      print(\"Leap\")\n",
        "    else:\n",
        "      print(\"Not Leap\")\n",
        "  else:\n",
        "    print(\"Leap\")\n",
        "else:\n",
        "  print(\"Not leap\")"
      ],
      "metadata": {
        "id": "2YKVt82br33Q"
      },
      "execution_count": null,
      "outputs": []
    }
  ]
}