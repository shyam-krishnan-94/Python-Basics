{
  "nbformat": 4,
  "nbformat_minor": 0,
  "metadata": {
    "colab": {
      "provenance": []
    },
    "kernelspec": {
      "name": "python3",
      "display_name": "Python 3"
    },
    "language_info": {
      "name": "python"
    }
  },
  "cells": [
    {
      "cell_type": "code",
      "execution_count": 2,
      "metadata": {
        "colab": {
          "base_uri": "https://localhost:8080/"
        },
        "id": "qVKN2HufjFsF",
        "outputId": "b9ee9977-d31e-4597-d6b4-d761567c2b22"
      },
      "outputs": [
        {
          "output_type": "stream",
          "name": "stdout",
          "text": [
            "name 'b' is not defined\n"
          ]
        }
      ],
      "source": [
        "#Exception - Try, Except\n",
        "\n",
        "#Use try to execute blocks of code where you expect an error\n",
        "try:\n",
        "  a=b\n",
        "except NameError as ex:\n",
        "  print(ex)"
      ]
    },
    {
      "cell_type": "code",
      "source": [
        "#To handle any kind of exception, you use the base exception class. This class is universal and will catch any exception\n",
        "\n",
        "try:\n",
        "  1/0\n",
        "except Exception as ex1:\n",
        "  print(ex1)"
      ],
      "metadata": {
        "colab": {
          "base_uri": "https://localhost:8080/"
        },
        "id": "SdLYxJJeM-YY",
        "outputId": "8eaf7cb0-cba7-4f15-c9b0-02c6ab450087"
      },
      "execution_count": 4,
      "outputs": [
        {
          "output_type": "stream",
          "name": "stdout",
          "text": [
            "division by zero\n"
          ]
        }
      ]
    },
    {
      "cell_type": "code",
      "source": [
        "try:\n",
        "  num=int(input(\"Enter a number:\"))\n",
        "  result=10/num\n",
        "except ValueError:\n",
        "  print(\"Enter a number not a char\")\n",
        "#This should always come last\n",
        "except Exception as ex2:\n",
        "  print(ex2)"
      ],
      "metadata": {
        "colab": {
          "base_uri": "https://localhost:8080/"
        },
        "id": "Rh_PxNouNh2r",
        "outputId": "230b5379-cc98-41a8-b3fe-4e18e8848cce"
      },
      "execution_count": 8,
      "outputs": [
        {
          "output_type": "stream",
          "name": "stdout",
          "text": [
            "Enter a number:a\n",
            "Enter a number not a char\n"
          ]
        }
      ]
    },
    {
      "cell_type": "code",
      "source": [
        "try:\n",
        "  num=int(input(\"Enter a number:\"))\n",
        "  result=10/num\n",
        "except ValueError:\n",
        "  print(\"Enter a number not a char\")\n",
        "#This should always come last\n",
        "except Exception as ex2:\n",
        "  print(ex2)\n",
        "#Now if no exceptions are caught, the else statement will be executed to close out the program.\n",
        "#it wont get executed if exceptions are caught\n",
        "else:\n",
        "  print(f\"The result is {result}\")"
      ],
      "metadata": {
        "colab": {
          "base_uri": "https://localhost:8080/"
        },
        "id": "FkcGrXFBPC6j",
        "outputId": "ee7a9725-0fcc-468a-c12a-4d9d79abd5c7"
      },
      "execution_count": 10,
      "outputs": [
        {
          "output_type": "stream",
          "name": "stdout",
          "text": [
            "Enter a number:a\n",
            "Enter a number not a char\n"
          ]
        }
      ]
    },
    {
      "cell_type": "code",
      "source": [
        "try:\n",
        "  num=int(input(\"Enter a number:\"))\n",
        "  result=10/num\n",
        "except ValueError:\n",
        "  print(\"Enter a number not a char\")\n",
        "#This should always come last\n",
        "except Exception as ex2:\n",
        "  print(ex2)\n",
        "#Now if no exceptions are caught, the else statement will be executed to close out the program.\n",
        "#it wont get executed if exceptions are caught\n",
        "else:\n",
        "  print(f\"The result is {result}\")\n",
        "#Finally executed regardless of whether the exceptions are caught or not caught\n",
        "finally:\n",
        "  print(\"execution complete\")"
      ],
      "metadata": {
        "colab": {
          "base_uri": "https://localhost:8080/"
        },
        "id": "ubAOuz_7Qxpy",
        "outputId": "bd5c1247-9ade-49e6-fc37-88d0e9ec6d9d"
      },
      "execution_count": 12,
      "outputs": [
        {
          "output_type": "stream",
          "name": "stdout",
          "text": [
            "Enter a number:12\n",
            "The result is 0.8333333333333334\n",
            "execution complete\n"
          ]
        }
      ]
    }
  ]
}