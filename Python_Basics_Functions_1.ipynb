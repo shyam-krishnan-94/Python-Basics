{
  "nbformat": 4,
  "nbformat_minor": 0,
  "metadata": {
    "colab": {
      "provenance": []
    },
    "kernelspec": {
      "name": "python3",
      "display_name": "Python 3"
    },
    "language_info": {
      "name": "python"
    }
  },
  "cells": [
    {
      "cell_type": "code",
      "execution_count": null,
      "metadata": {
        "id": "r0kzKfhG6Dk_"
      },
      "outputs": [],
      "source": [
        "def function_name(parameters):\n",
        "\n",
        "  \"\"\"Docstring - To help the reader understand what the function does\"\"\"\n",
        "  #Function body\n",
        "  return expression"
      ]
    },
    {
      "cell_type": "code",
      "source": [
        "def even_or_odd(num):\n",
        "\n",
        "  \"\"\"Docstring - To get even or odd number\"\"\"\n",
        "  if num%2==0:\n",
        "    print(\"even\")\n",
        "  else:\n",
        "    print(\"odd\")"
      ],
      "metadata": {
        "id": "OzYl312q6f2H"
      },
      "execution_count": null,
      "outputs": []
    },
    {
      "cell_type": "code",
      "source": [
        "even_or_odd(20)"
      ],
      "metadata": {
        "colab": {
          "base_uri": "https://localhost:8080/"
        },
        "id": "MY3dzcsr7iYN",
        "outputId": "971b37c3-ddec-4a21-f4a0-e0a3eb6bb121"
      },
      "execution_count": null,
      "outputs": [
        {
          "output_type": "stream",
          "name": "stdout",
          "text": [
            "even\n"
          ]
        }
      ]
    },
    {
      "cell_type": "code",
      "source": [
        "#Functions with multiple parameters\n",
        "def add_two_nums(a,b):\n",
        "  return a+b\n"
      ],
      "metadata": {
        "id": "xsRQAiDi7sWO"
      },
      "execution_count": null,
      "outputs": []
    },
    {
      "cell_type": "code",
      "source": [
        "print(f\"sum is {add_two_nums(5,7)}\")"
      ],
      "metadata": {
        "colab": {
          "base_uri": "https://localhost:8080/"
        },
        "id": "cbRyvgNd765v",
        "outputId": "3a914c41-16ba-4c11-8738-0329984dcf52"
      },
      "execution_count": null,
      "outputs": [
        {
          "output_type": "stream",
          "name": "stdout",
          "text": [
            "sum is 12\n"
          ]
        }
      ]
    },
    {
      "cell_type": "code",
      "source": [
        "#Default parameters\n",
        "#shyam is the default parameter\n",
        "def greet(name = \"shyam\"):\n",
        "  print(f\"Hello! {name}\")"
      ],
      "metadata": {
        "id": "z_i6juOr8NlU"
      },
      "execution_count": null,
      "outputs": []
    },
    {
      "cell_type": "code",
      "source": [
        "greet(\"mike\")"
      ],
      "metadata": {
        "colab": {
          "base_uri": "https://localhost:8080/"
        },
        "id": "RJ0PzwG68yhp",
        "outputId": "45eac7d9-a59d-4ac7-f107-62e4061a81ff"
      },
      "execution_count": null,
      "outputs": [
        {
          "output_type": "stream",
          "name": "stdout",
          "text": [
            "Hello! mike\n"
          ]
        }
      ]
    },
    {
      "cell_type": "code",
      "source": [
        "#Very important - variable length arguments\n",
        "#Positional and keyword arguments\n",
        "\n",
        "#Starting with positional arguments\n",
        "\n",
        "def summation(*args):\n",
        "  sum=0\n",
        "  for i in args:\n",
        "    sum+=i\n",
        "  return sum\n"
      ],
      "metadata": {
        "id": "htArDg918-oG"
      },
      "execution_count": null,
      "outputs": []
    },
    {
      "cell_type": "code",
      "source": [
        "print(summation(1,2,3,4,6))"
      ],
      "metadata": {
        "colab": {
          "base_uri": "https://localhost:8080/"
        },
        "id": "f9rgu5ud9v6m",
        "outputId": "8ce68558-7bfd-4039-a0f9-a567985ac4ca"
      },
      "execution_count": null,
      "outputs": [
        {
          "output_type": "stream",
          "name": "stdout",
          "text": [
            "16\n"
          ]
        }
      ]
    },
    {
      "cell_type": "code",
      "source": [
        "#Next we go to Keyword arguments\n",
        "#If we give this **kwargs, then this will be read as a dictionary parameter and we can access key value pairs\n",
        "\n",
        "def example(**kwargs):\n",
        "  for keys, values in kwargs.items():\n",
        "    print(f\"{keys}:{values}\")\n"
      ],
      "metadata": {
        "id": "O3SLtT3DPB41"
      },
      "execution_count": 15,
      "outputs": []
    },
    {
      "cell_type": "code",
      "source": [
        "#This is how you pass the paramter, notice the difference between this and dictionary format\n",
        "example(name=\"shyam\",age=32,country=\"India\")"
      ],
      "metadata": {
        "colab": {
          "base_uri": "https://localhost:8080/"
        },
        "id": "ZbWG0AHmPd28",
        "outputId": "458d8973-4fbd-4069-8edf-4509893256db"
      },
      "execution_count": 19,
      "outputs": [
        {
          "output_type": "stream",
          "name": "stdout",
          "text": [
            "name:shyam\n",
            "age:32\n",
            "country:India\n"
          ]
        }
      ]
    },
    {
      "cell_type": "code",
      "source": [
        "#Combining both of them - positional arguments *args and keyword arguments **kwargs\n",
        "def example_2(*args,**kwargs):\n",
        "  for i in args:\n",
        "    print(f\"Positional parameter:{i}\")\n",
        "\n",
        "  for key, value in kwargs.items():\n",
        "    print(f\"{key}:{value}\")"
      ],
      "metadata": {
        "id": "AAD_kbr5RXqB"
      },
      "execution_count": 24,
      "outputs": []
    },
    {
      "cell_type": "code",
      "source": [
        "example_2(1,2,3,4,5,(1,2,3),name=\"shyam\",grade=6,marks=49)"
      ],
      "metadata": {
        "colab": {
          "base_uri": "https://localhost:8080/"
        },
        "id": "TTiDS769R4lw",
        "outputId": "4bc2e99c-a181-4113-afbe-c003bbad2c87"
      },
      "execution_count": 25,
      "outputs": [
        {
          "output_type": "stream",
          "name": "stdout",
          "text": [
            "Positional parameter:1\n",
            "Positional parameter:2\n",
            "Positional parameter:3\n",
            "Positional parameter:4\n",
            "Positional parameter:5\n",
            "Positional parameter:(1, 2, 3)\n",
            "name:shyam\n",
            "grade:6\n",
            "marks:49\n"
          ]
        }
      ]
    }
  ]
}